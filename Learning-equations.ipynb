{
 "cells": [
  {
   "cell_type": "code",
   "execution_count": 1,
   "metadata": {},
   "outputs": [
    {
     "ename": "ModuleNotFoundError",
     "evalue": "No module named 'pomegranate'",
     "output_type": "error",
     "traceback": [
      "\u001b[0;31m---------------------------------------------------------------------------\u001b[0m",
      "\u001b[0;31mModuleNotFoundError\u001b[0m                       Traceback (most recent call last)",
      "\u001b[0;32m<ipython-input-1-451170a4ba8f>\u001b[0m in \u001b[0;36m<module>\u001b[0;34m\u001b[0m\n\u001b[1;32m      5\u001b[0m \u001b[0;32mimport\u001b[0m \u001b[0mscipy\u001b[0m\u001b[0;34m.\u001b[0m\u001b[0mstats\u001b[0m \u001b[0;32mas\u001b[0m \u001b[0mstats\u001b[0m\u001b[0;34m\u001b[0m\u001b[0;34m\u001b[0m\u001b[0m\n\u001b[1;32m      6\u001b[0m \u001b[0;32mimport\u001b[0m \u001b[0mscipy\u001b[0m\u001b[0;34m.\u001b[0m\u001b[0moptimize\u001b[0m \u001b[0;32mas\u001b[0m \u001b[0mopt\u001b[0m\u001b[0;34m\u001b[0m\u001b[0;34m\u001b[0m\u001b[0m\n\u001b[0;32m----> 7\u001b[0;31m \u001b[0;32mimport\u001b[0m \u001b[0mpomegranate\u001b[0m \u001b[0;32mas\u001b[0m \u001b[0mpm\u001b[0m\u001b[0;34m\u001b[0m\u001b[0;34m\u001b[0m\u001b[0m\n\u001b[0m\u001b[1;32m      8\u001b[0m \u001b[0;32mfrom\u001b[0m \u001b[0mtqdm\u001b[0m \u001b[0;32mimport\u001b[0m \u001b[0mtqdm\u001b[0m\u001b[0;34m\u001b[0m\u001b[0;34m\u001b[0m\u001b[0m\n\u001b[1;32m      9\u001b[0m \u001b[0;34m\u001b[0m\u001b[0m\n",
      "\u001b[0;31mModuleNotFoundError\u001b[0m: No module named 'pomegranate'"
     ]
    }
   ],
   "source": [
    "import random\n",
    "import numpy as np\n",
    "import matplotlib.pyplot as graph\n",
    "import seaborn as sns\n",
    "import scipy.stats as stats\n",
    "import scipy.optimize as opt\n",
    "import pomegranate as pm\n",
    "from tqdm import tqdm\n",
    "\n",
    "from itertools import combinations\n",
    "\n",
    "graph.style.use('fivethirtyeight')"
   ]
  },
  {
   "cell_type": "markdown",
   "metadata": {},
   "source": [
    "# Vectors and Matrices"
   ]
  },
  {
   "cell_type": "code",
   "execution_count": 2,
   "metadata": {},
   "outputs": [
    {
     "data": {
      "text/plain": [
       "(4,)"
      ]
     },
     "execution_count": 2,
     "metadata": {},
     "output_type": "execute_result"
    }
   ],
   "source": [
    "# vector\n",
    "v = np.array([0, 1, 2, 3])\n",
    "v.shape"
   ]
  },
  {
   "cell_type": "code",
   "execution_count": 3,
   "metadata": {},
   "outputs": [
    {
     "data": {
      "text/plain": [
       "(4, 1)"
      ]
     },
     "execution_count": 3,
     "metadata": {},
     "output_type": "execute_result"
    }
   ],
   "source": [
    "# matrix\n",
    "m = v.reshape((4, 1))\n",
    "m.shape"
   ]
  },
  {
   "cell_type": "code",
   "execution_count": 4,
   "metadata": {},
   "outputs": [
    {
     "data": {
      "text/plain": [
       "array([[0],\n",
       "       [1],\n",
       "       [2],\n",
       "       [3]])"
      ]
     },
     "execution_count": 4,
     "metadata": {},
     "output_type": "execute_result"
    }
   ],
   "source": [
    "m"
   ]
  },
  {
   "cell_type": "code",
   "execution_count": 5,
   "metadata": {},
   "outputs": [
    {
     "data": {
      "text/plain": [
       "array([[0, 1, 2, 3]])"
      ]
     },
     "execution_count": 5,
     "metadata": {},
     "output_type": "execute_result"
    }
   ],
   "source": [
    "m.T"
   ]
  },
  {
   "cell_type": "code",
   "execution_count": 6,
   "metadata": {},
   "outputs": [
    {
     "name": "stdout",
     "output_type": "stream",
     "text": [
      "(750,)\n"
     ]
    }
   ],
   "source": [
    "x = stats.norm.rvs(100, 15, size=750)\n",
    "print(x.shape)"
   ]
  },
  {
   "cell_type": "code",
   "execution_count": 7,
   "metadata": {},
   "outputs": [
    {
     "data": {
      "text/plain": [
       "99.93539748196899"
      ]
     },
     "execution_count": 7,
     "metadata": {},
     "output_type": "execute_result"
    }
   ],
   "source": [
    "# average\n",
    "(1/len(x))*sum(x)"
   ]
  },
  {
   "cell_type": "code",
   "execution_count": 8,
   "metadata": {},
   "outputs": [
    {
     "name": "stdout",
     "output_type": "stream",
     "text": [
      "(3,)\n",
      "[0.25 0.33 0.5 ]\n"
     ]
    }
   ],
   "source": [
    "x = np.array([0.25, 0.33, 0.5])\n",
    "print(x.shape)\n",
    "print(x)"
   ]
  },
  {
   "cell_type": "markdown",
   "metadata": {},
   "source": [
    "# Probability"
   ]
  },
  {
   "cell_type": "code",
   "execution_count": 9,
   "metadata": {},
   "outputs": [
    {
     "name": "stdout",
     "output_type": "stream",
     "text": [
      "0.04125\n"
     ]
    }
   ],
   "source": [
    "p = x.prod()\n",
    "print(p)"
   ]
  },
  {
   "cell_type": "code",
   "execution_count": 10,
   "metadata": {},
   "outputs": [
    {
     "data": {
      "image/png": "[encoded data removed]",
      "text/plain": [
       "<Figure size 432x288 with 1 Axes>"
      ]
     },
     "metadata": {},
     "output_type": "display_data"
    }
   ],
   "source": [
    "x = stats.uniform.rvs(0, 1, size=1000)\n",
    "graph.hist(x, bins=500)\n",
    "graph.show()"
   ]
  },
  {
   "cell_type": "code",
   "execution_count": 11,
   "metadata": {},
   "outputs": [
    {
     "data": {
      "text/plain": [
       "0.0"
      ]
     },
     "execution_count": 11,
     "metadata": {},
     "output_type": "execute_result"
    }
   ],
   "source": [
    "x.prod()"
   ]
  },
  {
   "cell_type": "code",
   "execution_count": 12,
   "metadata": {},
   "outputs": [
    {
     "data": {
      "text/plain": [
       "-964.7249732691465"
      ]
     },
     "execution_count": 12,
     "metadata": {},
     "output_type": "execute_result"
    }
   ],
   "source": [
    "np.log(x).sum()"
   ]
  },
  {
   "cell_type": "code",
   "execution_count": 13,
   "metadata": {},
   "outputs": [
    {
     "name": "stdout",
     "output_type": "stream",
     "text": [
      "4.010391585875743\n",
      "116618.90399762249\n"
     ]
    }
   ],
   "source": [
    "# Likelihood\n",
    "print(stats.norm.pdf(100, 100, 15) / stats.norm.pdf(125, 100, 15))\n",
    "\n",
    "iq_us = np.array([155, 140, 125])\n",
    "\n",
    "a = stats.norm(100, 15).pdf(iq_us).prod()\n",
    "b = stats.norm(100, 15).pdf(3*[100]).prod()\n",
    "print(b/a)"
   ]
  },
  {
   "cell_type": "markdown",
   "metadata": {},
   "source": [
    "# Model making\n",
    "\n",
    "$$ y = mx + b $$\n",
    "\n",
    "$$ y = \\mathcal{N}(mx + b , \\sigma) $$"
   ]
  },
  {
   "cell_type": "code",
   "execution_count": 14,
   "metadata": {},
   "outputs": [
    {
     "data": {
      "image/png": "[encoded data removed]",
      "text/plain": [
       "<Figure size 432x288 with 1 Axes>"
      ]
     },
     "metadata": {},
     "output_type": "display_data"
    }
   ],
   "source": [
    "m, b = 2, 5\n",
    "s = 3\n",
    "n = 100\n",
    "\n",
    "x = stats.norm.rvs(size=n)\n",
    "y = (m * x) + b + stats.norm(0, s).rvs(size=n)\n",
    "\n",
    "graph.plot(x, y, '.')\n",
    "graph.show()"
   ]
  },
  {
   "cell_type": "code",
   "execution_count": 15,
   "metadata": {},
   "outputs": [],
   "source": [
    "def log_likelihood(slope, intercept, noise):\n",
    "    y_guess = slope*x + intercept\n",
    "    residual = y - y_guess\n",
    "    return stats.norm(0, np.abs(noise)).logpdf(residual).sum()"
   ]
  },
  {
   "cell_type": "code",
   "execution_count": 16,
   "metadata": {},
   "outputs": [],
   "source": [
    "def likelihood(slope, intercept, noise):\n",
    "    y_guess = slope*x + intercept\n",
    "    residual = y - y_guess\n",
    "    return stats.norm(0, np.abs(noise)).pdf(residual).prod()"
   ]
  },
  {
   "cell_type": "code",
   "execution_count": 17,
   "metadata": {},
   "outputs": [
    {
     "name": "stdout",
     "output_type": "stream",
     "text": [
      "-382.98534049766926 -282.6128166988991\n"
     ]
    },
    {
     "data": {
      "image/png": "[encoded data removed]",
      "text/plain": [
       "<Figure size 432x288 with 1 Axes>"
      ]
     },
     "metadata": {},
     "output_type": "display_data"
    }
   ],
   "source": [
    "print(log_likelihood(0, 0, y.std()), log_likelihood(2, 5, 6))\n",
    "\n",
    "graph.plot(x, y, '.')\n",
    "graph.plot(x, np.zeros(y.shape))\n",
    "graph.show()"
   ]
  },
  {
   "cell_type": "code",
   "execution_count": 18,
   "metadata": {},
   "outputs": [
    {
     "name": "stdout",
     "output_type": "stream",
     "text": [
      "382.98534049766926\n"
     ]
    }
   ],
   "source": [
    "path = []\n",
    "def log_like_wrapper(guess):\n",
    "    score = -log_likelihood(*guess)\n",
    "    path.append(score)\n",
    "    return score\n",
    "\n",
    "print(log_like_wrapper([0, 0, y.std()]))"
   ]
  },
  {
   "cell_type": "code",
   "execution_count": 19,
   "metadata": {},
   "outputs": [
    {
     "name": "stdout",
     "output_type": "stream",
     "text": [
      "-4.694398701388085e-167\n"
     ]
    }
   ],
   "source": [
    "path = []\n",
    "def like_wrapper(guess):\n",
    "    score = -likelihood(*guess)\n",
    "    path.append(score)\n",
    "    return score\n",
    "\n",
    "print(like_wrapper([0, 0, y.std()]))"
   ]
  },
  {
   "cell_type": "code",
   "execution_count": 20,
   "metadata": {
    "scrolled": true
   },
   "outputs": [
    {
     "name": "stdout",
     "output_type": "stream",
     "text": [
      "Optimization terminated successfully.\n",
      "         Current function value: -0.000000\n",
      "         Iterations: 205\n",
      "         Function evaluations: 365\n"
     ]
    },
    {
     "data": {
      "image/png": "[encoded data removed]",
      "text/plain": [
       "<Figure size 432x288 with 1 Axes>"
      ]
     },
     "metadata": {},
     "output_type": "display_data"
    },
    {
     "data": {
      "image/png": "[encoded data removed]",
      "text/plain": [
       "<Figure size 432x288 with 1 Axes>"
      ]
     },
     "metadata": {},
     "output_type": "display_data"
    },
    {
     "name": "stdout",
     "output_type": "stream",
     "text": [
      "[1.71150343 5.36206557 2.84081012]\n"
     ]
    }
   ],
   "source": [
    "path = []\n",
    "params = opt.fmin(like_wrapper, [0, 0, y.std()], disp=True)\n",
    "\n",
    "graph.plot(path)\n",
    "graph.show()\n",
    "\n",
    "graph.plot(x, y, '.')\n",
    "graph.plot(x, (m*x)+ b, label='True')\n",
    "graph.plot(x, params[0]*x + params[1], label='MLE')\n",
    "graph.legend()\n",
    "graph.show()\n",
    "\n",
    "print(params)"
   ]
  },
  {
   "cell_type": "code",
   "execution_count": 21,
   "metadata": {},
   "outputs": [
    {
     "name": "stdout",
     "output_type": "stream",
     "text": [
      "Optimization terminated successfully.\n",
      "         Current function value: 246.303759\n",
      "         Iterations: 205\n",
      "         Function evaluations: 365\n"
     ]
    },
    {
     "data": {
      "image/png": "[encoded data removed]",
      "text/plain": [
       "<Figure size 432x288 with 1 Axes>"
      ]
     },
     "metadata": {},
     "output_type": "display_data"
    },
    {
     "data": {
      "image/png": "[encoded data removed]",
      "text/plain": [
       "<Figure size 432x288 with 1 Axes>"
      ]
     },
     "metadata": {},
     "output_type": "display_data"
    },
    {
     "name": "stdout",
     "output_type": "stream",
     "text": [
      "[1.71150343 5.36206557 2.84081012]\n"
     ]
    }
   ],
   "source": [
    "path = []\n",
    "params = opt.fmin(log_like_wrapper, [0, 0, y.std()], disp=True)\n",
    "\n",
    "graph.plot(path)\n",
    "graph.show()\n",
    "\n",
    "graph.plot(x, y, '.')\n",
    "graph.plot(x, (m*x)+ b, label='True')\n",
    "graph.plot(x, params[0]*x + params[1], label='MLE')\n",
    "graph.legend()\n",
    "graph.show()\n",
    "\n",
    "print(params)"
   ]
  },
  {
   "cell_type": "markdown",
   "metadata": {},
   "source": [
    "# Bayesian Modelling"
   ]
  },
  {
   "cell_type": "code",
   "execution_count": 29,
   "metadata": {},
   "outputs": [
    {
     "name": "stderr",
     "output_type": "stream",
     "text": [
      "555.644 = L([ -1.10263359   1.45374497 103.13582518]|y): 100%|██████████| 500/500 [00:02<00:00, 216.82it/s]         \n"
     ]
    },
    {
     "name": "stdout",
     "output_type": "stream",
     "text": [
      "(500, 3)\n"
     ]
    }
   ],
   "source": [
    "iterations = 500\n",
    "progressor = tqdm(range(iterations))\n",
    "\n",
    "current = np.array([0, 0, 100])\n",
    "step_size = 0.1\n",
    "\n",
    "trace = []\n",
    "for i in progressor:\n",
    "    # Get current likelihood\n",
    "    current_loglike = -log_likelihood(*current)\n",
    "    \n",
    "    # Get potential likelihood\n",
    "    next_step = current + stats.norm(0, step_size).rvs(size=current.shape)\n",
    "    potential_loglike = -log_likelihood(*next_step)\n",
    "    \n",
    "    # Compute probability of accepting the new step\n",
    "    odds = np.e ** (potential_loglike - current_loglike)\n",
    "    odds = np.clip(odds, 1e-6, 1e6)\n",
    "    \n",
    "    # Accept potential at the odds of stepping there\n",
    "    current = random.choices([current, next_step], weights=[1, odds])[0]\n",
    "    \n",
    "    progressor.set_description(f'{current_loglike:0.3f} = L({current}|y)')\n",
    "    trace.append(current)\n",
    "    \n",
    "# results\n",
    "trace = np.vstack(trace)\n",
    "print(trace.shape)"
   ]
  },
  {
   "cell_type": "code",
   "execution_count": 30,
   "metadata": {},
   "outputs": [
    {
     "data": {
      "image/png": "[encoded data removed]",
      "text/plain": [
       "<Figure size 432x288 with 1 Axes>"
      ]
     },
     "metadata": {},
     "output_type": "display_data"
    }
   ],
   "source": [
    "graph.plot(trace[:, 0])\n",
    "graph.show()"
   ]
  },
  {
   "cell_type": "code",
   "execution_count": 32,
   "metadata": {
    "scrolled": true
   },
   "outputs": [
    {
     "name": "stderr",
     "output_type": "stream",
     "text": [
      "-0.000 = L([0 0 1]|y): 100%|██████████| 500/500 [00:02<00:00, 209.82it/s]\n"
     ]
    },
    {
     "name": "stdout",
     "output_type": "stream",
     "text": [
      "(500, 3)\n"
     ]
    }
   ],
   "source": [
    "# Bayesian with likelihood, not loglikelihood\n",
    "\n",
    "iterations = 500\n",
    "progressor = tqdm(range(iterations))\n",
    "\n",
    "current = np.array([0, 0, 1])\n",
    "step_size = 0.1\n",
    "\n",
    "trace = []\n",
    "for i in progressor:\n",
    "    # Get currently likelihood\n",
    "    current_like = -likelihood(*current)\n",
    "    \n",
    "    # Get potential likelihood\n",
    "    next_step = current + stats.norm(0, step_size).rvs(size=current.shape)\n",
    "    potential_like = -likelihood(*next_step)\n",
    "    \n",
    "    # Compute probability of accepting the new step\n",
    "    odds = potential_like - current_like\n",
    "    odds = np.clip(odds, 1e-6, 1e6)\n",
    "    \n",
    "    # Accept potential at the odds of stepping there\n",
    "    current = random.choices([current, next_step], weights=[1, odds])[0]\n",
    "    \n",
    "    progressor.set_description(f'{current_like:0.3f} = L({current}|y)')\n",
    "    trace.append(current)\n",
    "    \n",
    "# results\n",
    "trace = np.vstack(trace)\n",
    "print(trace.shape)"
   ]
  },
  {
   "cell_type": "markdown",
   "metadata": {},
   "source": [
    "## DFE-Alpha"
   ]
  },
  {
   "cell_type": "code",
   "execution_count": 35,
   "metadata": {},
   "outputs": [],
   "source": [
    "def delta_q(s, q):\n",
    "    assert s <= 1\n",
    "    return (-s*q*(1-q) / 2*(1-s*q))"
   ]
  },
  {
   "cell_type": "code",
   "execution_count": 36,
   "metadata": {},
   "outputs": [],
   "source": [
    "def m(n, k, q, s):\n",
    "    def delta_q(s, q):\n",
    "        assert s <= 1\n",
    "        return (-s*q*(1-q) / 2*(1-s*q))\n"
   ]
  },
  {
   "cell_type": "code",
   "execution_count": 37,
   "metadata": {},
   "outputs": [],
   "source": [
    "s_range = np.random.gamma(1, scale=0.5, size=int(1e6))"
   ]
  },
  {
   "cell_type": "code",
   "execution_count": 38,
   "metadata": {},
   "outputs": [
    {
     "name": "stderr",
     "output_type": "stream",
     "text": [
      "/home/arshad/miniconda3/lib/python3.6/site-packages/matplotlib/axes/_axes.py:6462: UserWarning: The 'normed' kwarg is deprecated, and has been replaced by the 'density' kwarg.\n",
      "  warnings.warn(\"The 'normed' kwarg is deprecated, and has been \"\n"
     ]
    },
    {
     "data": {
      "image/png": "[encoded data removed]",
      "text/plain": [
       "<Figure size 720x360 with 1 Axes>"
      ]
     },
     "metadata": {},
     "output_type": "display_data"
    }
   ],
   "source": [
    "graph.figure(figsize=(10, 5))\n",
    "sns.distplot(s_range, bins=1000)\n",
    "graph.show()"
   ]
  },
  {
   "cell_type": "code",
   "execution_count": 39,
   "metadata": {},
   "outputs": [
    {
     "name": "stdout",
     "output_type": "stream",
     "text": [
      "13.570699999999999 % above 1\n"
     ]
    }
   ],
   "source": [
    "print(f'{sum(i > 1 for i in s_range) / len(s_range) * 100} % above 1')"
   ]
  }
 ],
 "metadata": {
  "kernelspec": {
   "display_name": "Python 3",
   "language": "python",
   "name": "python3"
  },
  "language_info": {
   "codemirror_mode": {
    "name": "ipython",
    "version": 3
   },
   "file_extension": ".py",
   "mimetype": "text/x-python",
   "name": "python",
   "nbconvert_exporter": "python",
   "pygments_lexer": "ipython3",
   "version": "3.6.7"
  }
 },
 "nbformat": 4,
 "nbformat_minor": 2
}
